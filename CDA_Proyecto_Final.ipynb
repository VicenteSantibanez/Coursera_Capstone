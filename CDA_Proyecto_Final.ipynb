{
 "cells": [
  {
   "cell_type": "markdown",
   "id": "5b661c1f",
   "metadata": {},
   "source": [
    "# Ciencia de Datos Aplicada: Proyecto Final\n",
    "Este cuaderno será utilizado para el proyecto final correspondiente al curso \"Ciencia de Datos Aplicada\" impartido en Coursera."
   ]
  },
  {
   "cell_type": "code",
   "execution_count": 3,
   "id": "a2f10642",
   "metadata": {},
   "outputs": [],
   "source": [
    "import pandas as pd\n",
    "import numpy as np"
   ]
  },
  {
   "cell_type": "code",
   "execution_count": 4,
   "id": "9bf82d86",
   "metadata": {},
   "outputs": [
    {
     "name": "stdout",
     "output_type": "stream",
     "text": [
      "¡Hola, Proyecto Final del Curso!\n"
     ]
    }
   ],
   "source": [
    "print('¡Hola, Proyecto Final del Curso!')"
   ]
  },
  {
   "cell_type": "code",
   "execution_count": null,
   "id": "9e663ffb",
   "metadata": {},
   "outputs": [],
   "source": []
  }
 ],
 "metadata": {
  "kernelspec": {
   "display_name": "Python 3 (ipykernel)",
   "language": "python",
   "name": "python3"
  },
  "language_info": {
   "codemirror_mode": {
    "name": "ipython",
    "version": 3
   },
   "file_extension": ".py",
   "mimetype": "text/x-python",
   "name": "python",
   "nbconvert_exporter": "python",
   "pygments_lexer": "ipython3",
   "version": "3.9.7"
  }
 },
 "nbformat": 4,
 "nbformat_minor": 5
}
